{
 "cells": [
  {
   "cell_type": "markdown",
   "metadata": {},
   "source": [
    "## 1. inspiration from\n",
    "* https://stackoverflow.com/questions/71894141/how-to-get-the-search-list-from-pytube-on-python\n",
    "* https://pytube.io/en/latest/user/quickstart.html\n",
    "* https://codeium.com/"
   ]
  },
  {
   "cell_type": "markdown",
   "metadata": {},
   "source": [
    "## 2. initialization\n",
    "\n",
    "We exposed 3 mechanisms to identify videos:\n",
    "- video_id\n",
    "- playlist_id\n",
    "- search videos through text"
   ]
  },
  {
   "cell_type": "code",
   "execution_count": 1,
   "metadata": {},
   "outputs": [],
   "source": [
    "from pytube import YouTube, Playlist, Search\n",
    "import pandas as pd"
   ]
  },
  {
   "cell_type": "code",
   "execution_count": 2,
   "metadata": {},
   "outputs": [],
   "source": [
    "video_id = \"JctmnczWg0U\"\n",
    "playlist_id = \"PLsWyhklHwjExuXrXjJktcdYkCFL0PNdW7\"\n",
    "search_id = \"Manolis Kellis Lex Friedman\""
   ]
  },
  {
   "cell_type": "code",
   "execution_count": 3,
   "metadata": {},
   "outputs": [],
   "source": [
    "y = YouTube(f\"https://youtu.be/v={video_id}\")\n",
    "p = Playlist(f\"https://www.youtube.com/playlist?list={playlist_id}\")\n",
    "s = Search(search_id)"
   ]
  },
  {
   "cell_type": "markdown",
   "metadata": {},
   "source": [
    "## 3. helper functions"
   ]
  },
  {
   "cell_type": "code",
   "execution_count": 4,
   "metadata": {},
   "outputs": [],
   "source": [
    "def vl(x):\n",
    "    \"\"\"return a list of videos, can be empty\"\"\"\n",
    "    v = []\n",
    "    if type(x) == Playlist: v = list(x.videos)\n",
    "    elif type(x) == Search: v = x.results\n",
    "    elif type(x) == YouTube: v = [x]  \n",
    "    else: print(f\"Invalid type, x={x}, should be: Youtube, Search, Playlist\")\n",
    "    return v"
   ]
  },
  {
   "cell_type": "code",
   "execution_count": 5,
   "metadata": {},
   "outputs": [],
   "source": [
    "def y2a(x, n=2, output_path=\"../audio\"):\n",
    "    \"\"\"download audio from youtube for specified x object\n",
    "    x can be Playlist, Search, YouTube, or a list of videos\n",
    "    if n is specified, only the first n videos will be downloaded\n",
    "    output_path is where the audio will be downloaded to (default: ../audio)\"\"\"\n",
    "    for v in vl(x)[:n]:\n",
    "        try:\n",
    "            v.streams.filter(only_audio=True).first().download(output_path=output_path)\n",
    "            print(f\"DOWNLOADED -> {v.title}\")\n",
    "        except Exception as e:\n",
    "            print(f\"SKIPPED -> {v.title}\")"
   ]
  },
  {
   "cell_type": "code",
   "execution_count": 6,
   "metadata": {},
   "outputs": [],
   "source": [
    "def vm(videos):\n",
    "  \"\"\"return dataframe with video metadata\"\"\"\n",
    "  out = {}\n",
    "  for v in videos:\n",
    "    out[v.video_id] = {\n",
    "      \"author\": v.author, \"title\": v.title, \n",
    "      \"publish_date\": v.publish_date, \n",
    "      \"length\": v.length, \"views\": v.views, \n",
    "      \"rating\": v.rating, \"watch_url\": v.watch_url,\n",
    "      \"keywords\": v.keywords\n",
    "    }\n",
    "  return pd.DataFrame(out).T"
   ]
  },
  {
   "cell_type": "markdown",
   "metadata": {},
   "source": [
    "## 4. download data"
   ]
  },
  {
   "cell_type": "code",
   "execution_count": 7,
   "metadata": {},
   "outputs": [
    {
     "name": "stderr",
     "output_type": "stream",
     "text": [
      "Unexpected renderer encountered.\n",
      "Renderer name: dict_keys(['showingResultsForRenderer'])\n",
      "Search term: Manolis Kellis Lex Friedman\n",
      "Please open an issue at https://github.com/pytube/pytube/issues and provide this log output.\n"
     ]
    }
   ],
   "source": [
    "# assemble list of videos\n",
    "all_videos = vl(y)+vl(s)+vl(p)\n",
    "# select first 3 videos\n",
    "top3 = all_videos[:3]"
   ]
  },
  {
   "cell_type": "code",
   "execution_count": 8,
   "metadata": {},
   "outputs": [
    {
     "name": "stdout",
     "output_type": "stream",
     "text": [
      "DOWNLOADED -> AI Blog Post Summarization with Hugging Face Transformers & Beautiful Soup Web Scraping\n",
      "DOWNLOADED -> Manolis Kellis: Evolution of Human Civilization and Superintelligent AI | Lex Fridman Podcast #373\n",
      "SKIPPED -> Manolis Kellis: Human Genome and Evolutionary Dynamics | Lex Fridman Podcast #113\n"
     ]
    }
   ],
   "source": [
    "# download audio from list of videos\n",
    "[y2a(x) for x in top3];"
   ]
  },
  {
   "cell_type": "code",
   "execution_count": 9,
   "metadata": {},
   "outputs": [
    {
     "name": "stdout",
     "output_type": "stream",
     "text": [
      "DOWNLOADED -> Git and GitHub for Beginners Tutorial\n",
      "DOWNLOADED -> What Is GitLab Pipeline? | How To Create GitLab Pipeline | GitLab Tutorial For Beginners | Part V\n",
      "DOWNLOADED -> How to use Git inside of VSCode - 2020\n"
     ]
    }
   ],
   "source": [
    "# download top 5 audio from playlist\n",
    "y2a(p,n=5);"
   ]
  },
  {
   "cell_type": "markdown",
   "metadata": {},
   "source": [
    "## 5. download metadata"
   ]
  },
  {
   "cell_type": "code",
   "execution_count": 10,
   "metadata": {},
   "outputs": [
    {
     "data": {
      "text/plain": [
       "['https://youtube.com/watch?v=JctmnczWg0U',\n",
       " 'https://youtube.com/watch?v=wMavKrA-4do',\n",
       " 'https://youtube.com/watch?v=brslF-Cy3HU']"
      ]
     },
     "execution_count": 10,
     "metadata": {},
     "output_type": "execute_result"
    }
   ],
   "source": [
    "# list of watch urls from a video list\n",
    "[f\"{v.watch_url}\" for v in top3]"
   ]
  },
  {
   "cell_type": "code",
   "execution_count": 11,
   "metadata": {},
   "outputs": [
    {
     "data": {
      "text/plain": [
       "['https://youtube.com/watch?v=JctmnczWg0U AI Blog Post Summarization with Hugging Face Transformers & Beautiful Soup Web Scraping',\n",
       " 'https://youtube.com/watch?v=wMavKrA-4do Manolis Kellis: Evolution of Human Civilization and Superintelligent AI | Lex Fridman Podcast #373',\n",
       " 'https://youtube.com/watch?v=brslF-Cy3HU Manolis Kellis: Human Genome and Evolutionary Dynamics | Lex Fridman Podcast #113']"
      ]
     },
     "execution_count": 11,
     "metadata": {},
     "output_type": "execute_result"
    }
   ],
   "source": [
    "# list of watch urls with titles from a video list\n",
    "[f\"{v.watch_url} {v.title}\" for v in top3]"
   ]
  },
  {
   "cell_type": "code",
   "execution_count": 12,
   "metadata": {},
   "outputs": [
    {
     "data": {
      "text/html": [
       "<div>\n",
       "<style scoped>\n",
       "    .dataframe tbody tr th:only-of-type {\n",
       "        vertical-align: middle;\n",
       "    }\n",
       "\n",
       "    .dataframe tbody tr th {\n",
       "        vertical-align: top;\n",
       "    }\n",
       "\n",
       "    .dataframe thead th {\n",
       "        text-align: right;\n",
       "    }\n",
       "</style>\n",
       "<table border=\"1\" class=\"dataframe\">\n",
       "  <thead>\n",
       "    <tr style=\"text-align: right;\">\n",
       "      <th></th>\n",
       "      <th>author</th>\n",
       "      <th>title</th>\n",
       "      <th>publish_date</th>\n",
       "      <th>length</th>\n",
       "      <th>views</th>\n",
       "      <th>rating</th>\n",
       "      <th>watch_url</th>\n",
       "      <th>keywords</th>\n",
       "    </tr>\n",
       "  </thead>\n",
       "  <tbody>\n",
       "    <tr>\n",
       "      <th>JctmnczWg0U</th>\n",
       "      <td>Nicholas Renotte</td>\n",
       "      <td>AI Blog Post Summarization with Hugging Face T...</td>\n",
       "      <td>2021-02-17</td>\n",
       "      <td>1980</td>\n",
       "      <td>13004</td>\n",
       "      <td>None</td>\n",
       "      <td>https://youtube.com/watch?v=JctmnczWg0U</td>\n",
       "      <td>[web scraping, python web scraping, web scrapi...</td>\n",
       "    </tr>\n",
       "    <tr>\n",
       "      <th>wMavKrA-4do</th>\n",
       "      <td>Lex Fridman</td>\n",
       "      <td>Manolis Kellis: Evolution of Human Civilizatio...</td>\n",
       "      <td>2023-04-21</td>\n",
       "      <td>9028</td>\n",
       "      <td>583652</td>\n",
       "      <td>None</td>\n",
       "      <td>https://youtube.com/watch?v=wMavKrA-4do</td>\n",
       "      <td>[agi, ai, ai podcast, artificial, artificial i...</td>\n",
       "    </tr>\n",
       "    <tr>\n",
       "      <th>brslF-Cy3HU</th>\n",
       "      <td>Lex Fridman</td>\n",
       "      <td>Manolis Kellis: Human Genome and Evolutionary ...</td>\n",
       "      <td>2020-07-31</td>\n",
       "      <td>8964</td>\n",
       "      <td>370872</td>\n",
       "      <td>None</td>\n",
       "      <td>https://youtube.com/watch?v=brslF-Cy3HU</td>\n",
       "      <td>[]</td>\n",
       "    </tr>\n",
       "  </tbody>\n",
       "</table>\n",
       "</div>"
      ],
      "text/plain": [
       "                       author  \\\n",
       "JctmnczWg0U  Nicholas Renotte   \n",
       "wMavKrA-4do       Lex Fridman   \n",
       "brslF-Cy3HU       Lex Fridman   \n",
       "\n",
       "                                                         title publish_date  \\\n",
       "JctmnczWg0U  AI Blog Post Summarization with Hugging Face T...   2021-02-17   \n",
       "wMavKrA-4do  Manolis Kellis: Evolution of Human Civilizatio...   2023-04-21   \n",
       "brslF-Cy3HU  Manolis Kellis: Human Genome and Evolutionary ...   2020-07-31   \n",
       "\n",
       "            length   views rating                                watch_url  \\\n",
       "JctmnczWg0U   1980   13004   None  https://youtube.com/watch?v=JctmnczWg0U   \n",
       "wMavKrA-4do   9028  583652   None  https://youtube.com/watch?v=wMavKrA-4do   \n",
       "brslF-Cy3HU   8964  370872   None  https://youtube.com/watch?v=brslF-Cy3HU   \n",
       "\n",
       "                                                      keywords  \n",
       "JctmnczWg0U  [web scraping, python web scraping, web scrapi...  \n",
       "wMavKrA-4do  [agi, ai, ai podcast, artificial, artificial i...  \n",
       "brslF-Cy3HU                                                 []  "
      ]
     },
     "execution_count": 12,
     "metadata": {},
     "output_type": "execute_result"
    }
   ],
   "source": [
    "df = vm(all_videos)\n",
    "df.head(3)"
   ]
  },
  {
   "cell_type": "code",
   "execution_count": 13,
   "metadata": {},
   "outputs": [
    {
     "data": {
      "text/html": [
       "<div>\n",
       "<style scoped>\n",
       "    .dataframe tbody tr th:only-of-type {\n",
       "        vertical-align: middle;\n",
       "    }\n",
       "\n",
       "    .dataframe tbody tr th {\n",
       "        vertical-align: top;\n",
       "    }\n",
       "\n",
       "    .dataframe thead th {\n",
       "        text-align: right;\n",
       "    }\n",
       "</style>\n",
       "<table border=\"1\" class=\"dataframe\">\n",
       "  <thead>\n",
       "    <tr style=\"text-align: right;\">\n",
       "      <th></th>\n",
       "      <th>views</th>\n",
       "      <th>title</th>\n",
       "    </tr>\n",
       "  </thead>\n",
       "  <tbody>\n",
       "    <tr>\n",
       "      <th>wMavKrA-4do</th>\n",
       "      <td>583652</td>\n",
       "      <td>Manolis Kellis: Evolution of Human Civilizatio...</td>\n",
       "    </tr>\n",
       "    <tr>\n",
       "      <th>tRZGeaHPoaw</th>\n",
       "      <td>581705</td>\n",
       "      <td>Git and GitHub for Beginners Tutorial</td>\n",
       "    </tr>\n",
       "    <tr>\n",
       "      <th>t06rkOOUa7g</th>\n",
       "      <td>513194</td>\n",
       "      <td>Manolis Kellis: Origin of Life, Humans, Ideas,...</td>\n",
       "    </tr>\n",
       "    <tr>\n",
       "      <th>brslF-Cy3HU</th>\n",
       "      <td>370872</td>\n",
       "      <td>Manolis Kellis: Human Genome and Evolutionary ...</td>\n",
       "    </tr>\n",
       "    <tr>\n",
       "      <th>F2DBSH2VoHQ</th>\n",
       "      <td>247737</td>\n",
       "      <td>How to use Git inside of VSCode - 2020</td>\n",
       "    </tr>\n",
       "  </tbody>\n",
       "</table>\n",
       "</div>"
      ],
      "text/plain": [
       "              views                                              title\n",
       "wMavKrA-4do  583652  Manolis Kellis: Evolution of Human Civilizatio...\n",
       "tRZGeaHPoaw  581705              Git and GitHub for Beginners Tutorial\n",
       "t06rkOOUa7g  513194  Manolis Kellis: Origin of Life, Humans, Ideas,...\n",
       "brslF-Cy3HU  370872  Manolis Kellis: Human Genome and Evolutionary ...\n",
       "F2DBSH2VoHQ  247737             How to use Git inside of VSCode - 2020"
      ]
     },
     "execution_count": 13,
     "metadata": {},
     "output_type": "execute_result"
    }
   ],
   "source": [
    "# visualize the top 5 videos: title and views\n",
    "df[['views','title']].sort_values('views',ascending=False).head(5)"
   ]
  }
 ],
 "metadata": {
  "kernelspec": {
   "display_name": "whisper",
   "language": "python",
   "name": "python3"
  },
  "language_info": {
   "codemirror_mode": {
    "name": "ipython",
    "version": 3
   },
   "file_extension": ".py",
   "mimetype": "text/x-python",
   "name": "python",
   "nbconvert_exporter": "python",
   "pygments_lexer": "ipython3",
   "version": "3.10.6"
  },
  "orig_nbformat": 4
 },
 "nbformat": 4,
 "nbformat_minor": 2
}
